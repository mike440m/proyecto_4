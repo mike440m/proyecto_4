{
 "cells": [
  {
   "cell_type": "code",
   "execution_count": null,
   "metadata": {},
   "outputs": [],
   "source": [
    "# Dividir los datos en conjunto de entrenamiento y prueba\n",
    "X = df.drop('Machine failure', axis=1)\n",
    "y = df['Machine failure']\n",
    "\n",
    "# Reducir el tamaño del dataset para pruebas\n",
    "X, _, y, _ = train_test_split(X, y, train_size=0.1, stratify=y, random_state=42)\n",
    "\n",
    "X_train, X_test, y_train, y_test = train_test_split(X, y, test_size=0.3, random_state=42)\n",
    "\n",
    "# Construir un pipeline para el modelo SVM\n",
    "svm_pipe = Pipeline([\n",
    "    ('scaler', StandardScaler()),\n",
    "    ('svm', SVC())\n",
    "])\n",
    "\n",
    "# Definir la grilla de hiperparámetros para GridSearchCV\n",
    "param_grid_svm = {\n",
    "    'svm__C': [0.1, 1, 10],\n",
    "    'svm__gamma': [0.1, 0.01, 0.001]\n",
    "}\n",
    "\n",
    "# Realizar búsqueda de hiperparámetros para SVM\n",
    "svm_grid = GridSearchCV(svm_pipe, param_grid_svm, cv=3, error_score='raise')\n",
    "try:\n",
    "    svm_grid.fit(X_train, y_train)\n",
    "except ValueError as e:\n",
    "    print(f\"Error al ajustar SVM: {e}\")\n",
    "\n",
    "    # Obtener los mejores hiperparámetros y el mejor modelo SVM\n",
    "if 'best_params_' in dir(svm_grid):\n",
    "    best_params_svm = svm_grid.best_params_\n",
    "    best_model_svm = svm_grid.best_estimator_\n"
   ]
  }
 ],
 "metadata": {
  "language_info": {
   "name": "python"
  }
 },
 "nbformat": 4,
 "nbformat_minor": 2
}
