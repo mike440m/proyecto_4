{
 "cells": [
  {
   "cell_type": "code",
   "execution_count": null,
   "metadata": {},
   "outputs": [],
   "source": [
    "# Realizar preprocesado y limpieza de datos\n",
    "# Eliminar datos faltantes y duplicados\n",
    "df.dropna(inplace=True)\n",
    "df.drop_duplicates(inplace=True)\n",
    "\n",
    "# Verificar tipos de datos y valores NaN\n",
    "print(df.info())\n",
    "print(df.isna().sum())\n",
    "\n",
    "#Eliminar columnas innecesarias para el análisis predictivo\n",
    "df = df.drop(['Type','UDI','Product ID','Air temperature [K]','RNF','Process temperature [K]'], axis=1)"
   ]
  },
  {
   "cell_type": "code",
   "execution_count": null,
   "metadata": {},
   "outputs": [],
   "source": [
    "df = pd.read_csv('machine failure.csv', sep=',')\n",
    "print(df.head())\n",
    "df.describe(include= \"object\")\n",
    "df.head()\n",
    "df.info()"
   ]
  }
 ],
 "metadata": {
  "language_info": {
   "name": "python"
  }
 },
 "nbformat": 4,
 "nbformat_minor": 2
}
