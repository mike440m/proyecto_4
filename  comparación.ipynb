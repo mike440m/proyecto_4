{
 "cells": [
  {
   "cell_type": "code",
   "execution_count": null,
   "metadata": {},
   "outputs": [],
   "source": [
    " # Realizar curvas de aprendizaje\n",
    "    train_sizes_svm, train_scores_svm, valid_scores_svm = learning_curve(best_model_svm, X_train, y_train, train_sizes=np.linspace(0.1, 1.0, 10), cv=3)\n",
    "    train_sizes_rf, train_scores_rf, valid_scores_rf = learning_curve(best_model_rf, X_train, y_train, train_sizes=np.linspace(0.1, 1.0, 10), cv=3)\n",
    "\n",
    "    # Visualizar las curvas de aprendizaje\n",
    "    plt.figure(figsize=(14, 7))\n",
    "    plt.subplot(1, 2, 1)\n",
    "    plt.plot(train_sizes_svm, np.mean(train_scores_svm, axis=1), label='Training score')\n",
    "    plt.plot(train_sizes_svm, np.mean(valid_scores_svm, axis=1), label='Cross-validation score')\n",
    "    plt.title('Learning Curves (SVM)')\n",
    "    plt.xlabel('Training examples')\n",
    "    plt.ylabel('Score')\n",
    "    plt.legend()\n",
    "\n",
    "    plt.subplot(1, 2, 2)\n",
    "    plt.plot(train_sizes_rf, np.mean(train_scores_rf, axis=1), label='Training score')\n",
    "    plt.plot(train_sizes_rf, np.mean(valid_scores_rf, axis=1), label='Cross-validation score')\n",
    "    plt.title('Learning Curves (Random Forest)')\n",
    "    plt.xlabel('Training examples')\n",
    "    plt.ylabel('Score')\n",
    "    plt.legend()\n",
    "    plt.show()\n",
    "\n",
    "# Comparar el desempeño de los modelos\n",
    "    # Visualizar la matriz de confusión\n",
    "    plt.figure(figsize=(14, 7))\n",
    "    plt.subplot(1, 2, 1)\n",
    "    sns.heatmap(confusion_matrix(y_test, y_pred_svm), annot=True, fmt=\"d\", cmap=\"Blues\", cbar=False)\n",
    "    plt.title(\"SVM Confusion Matrix\")\n",
    "    plt.xlabel(\"Predicted Label\")\n",
    "    plt.ylabel(\"True Label\")\n",
    "\n",
    "    plt.subplot(1, 2, 2)\n",
    "    sns.heatmap(confusion_matrix(y_test, y_pred_rf), annot=True, fmt=\"d\", cmap=\"Blues\", cbar=False)\n",
    "    plt.title(\"Random Forest Confusion Matrix\")\n",
    "    plt.xlabel(\"Predicted Label\")\n",
    "    plt.ylabel(\"True Label\")\n",
    "\n",
    "    plt.show()\n",
    "else:\n",
    "    print(\"Error al encontrar los mejores hiperparámetros para SVM\")\n"
   ]
  }
 ],
 "metadata": {
  "language_info": {
   "name": "python"
  }
 },
 "nbformat": 4,
 "nbformat_minor": 2
}
