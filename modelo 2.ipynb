{
 "cells": [
  {
   "cell_type": "code",
   "execution_count": null,
   "metadata": {},
   "outputs": [],
   "source": [
    " # Dividir los datos en conjunto de entrenamiento y prueba\n",
    "X = df.drop('Machine failure', axis=1)\n",
    "y = df['Machine failure']\n",
    "\n",
    "# Reducir el tamaño del dataset para pruebas\n",
    "X, _, y, _ = train_test_split(X, y, train_size=0.1, stratify=y, random_state=42)\n",
    "\n",
    "X_train, X_test, y_train, y_test = train_test_split(X, y, test_size=0.3, random_state=42)\n",
    "\n",
    " # Construir un pipeline para el modelo Random Forest\n",
    "    rf_pipe = Pipeline([\n",
    "        ('rf', RandomForestClassifier())\n",
    "    ])\n",
    "\n",
    "    # Definir la grilla de hiperparámetros para GridSearchCV\n",
    "    param_grid_rf = {\n",
    "        'rf__n_estimators': [100, 200],\n",
    "        'rf__max_depth': [10, 20]\n",
    "    }\n",
    "\n",
    "    # Realizar búsqueda de hiperparámetros para Random Forest\n",
    "    rf_grid = GridSearchCV(rf_pipe, param_grid_rf, cv=3, error_score='raise')\n",
    "    rf_grid.fit(X_train, y_train)\n",
    "\n",
    "    # Obtener los mejores hiperparámetros y el mejor modelo Random Forest\n",
    "    best_params_rf = rf_grid.best_params_\n",
    "    best_model_rf = rf_grid.best_estimator_"
   ]
  }
 ],
 "metadata": {
  "language_info": {
   "name": "python"
  }
 },
 "nbformat": 4,
 "nbformat_minor": 2
}
